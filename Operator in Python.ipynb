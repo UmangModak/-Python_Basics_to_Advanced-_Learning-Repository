{
 "cells": [
  {
   "cell_type": "markdown",
   "id": "0ba3415e-3c21-434d-bc0e-926aa0fcaec1",
   "metadata": {},
   "source": [
    "### Operator in Python used to do an operations on variables and values. Operators are a  basically a standard symbol used to a logical and arithmetic operations. \n",
    "\n",
    "Operators comes with two standard term 1. operator and 2. operand\n",
    "\n",
    "1. operator  : it is used to do a operations using arithmetic and logical operations using standard symbols.\n",
    "2. operand   : it a value o which operator are used.\n",
    "\n",
    "Types of Operator \n",
    "\n",
    "1. Arithmetic Operations : It is used to do Arithmetic Operations on the values and variables.\n",
    "   1. add (+)             : It is used to add  two variables.\n",
    "   2. subtract(-)         : It is used to subtract two varibles.\n",
    "   3. multiply (*)        : It is used to multiplication of two variables.\n",
    "   4. Divide (/)          : It is used to divide two variable and perform operation division. Result are in float form after division.\n",
    "   5. floor division (//) : It is used to do floor operations. Result are in integer form after division.\n",
    "   6. Modulous (%)        : It is used to get the remainder.\n",
    "   7. Exponential (**)    : It returns the power of the value\n",
    "\n",
    "2. Camparison Operator / Relative Operator : It is used to campare the the assign values.\n",
    "   1. NOT Equals to (!=)  : It checks the value is given to a variable is right or not. if its right the returns false other wise true\n",
    "   2. Greater than (>)    : It is used to check the operands are greater or not. It returns True if the value is greater.\n",
    "   3. Greater than or Equals to (>=)  : It is used to check the operands are greater or atleast equal to that value.\n",
    "   4. Less than ( < )     : It is used to check the operands are less or not. It returns True if the value is lesser.\n",
    "   5. Lesser than or Equals to (<=)  : It is used to check the operands are Lesser or at least equal to that value.\n",
    "   6. Equals to Equals to (==)       : It is used to check the value of two operand is same or not\n",
    "\n",
    "3. Assignment Operator : It is used to assign Values to a variables.\n",
    "   1. Assignment operator ( = ) : It is used to assign values.\n",
    "   2. Addition Assignment Operator ( += ) : This operator adds the left and right operands of the expression and then assigns the calculated value to                                              the left side operand.\n",
    "   3. Subtraction Assignment Operator( -+ ) : It subtracts the right-hand side operand of the expression from the left operand and then assigns the                                                calculated value to the left operand.\n",
    "   4. Multiplication Assignment Operator (*=) : It multiplies the left operand by the right operand and then assigns the calculated value to the left-                                                  hand operand.\n",
    "   5. Division Assignment Operator  ( / =)   : It divides the left operand by the right operand and then assigns the resultant value to the left-hand                                                   operand.\n",
    "   6. Modulus Assignment Operator (%=)     : It divides the left operand by the right operand and then assigns the remainder value to the left-hand                                                operand.\n",
    "   7. Exponentiation Assignment Operator (**=)  : This operator calculates the exponent by raising the left-hand operand to the power of the right-                                                     hand operand and then assigns the result to the left-hand operand.\n",
    "   8. Floor Division Assignment Operator (//=)  : It divides the left operand by the right operand and then assigns the quotient value (in the form of                                                  an integer) to the left operand.\n",
    "   9. Bitwise AND Assignment Operator (&=) : This operator performs the bitwise operation on the left and right operands and then assigns the                                                       resultant value to the left operand.\n",
    "   10. Bitwise OR Assignment Operator (|=) : This operator performs the bitwise OR operation on left and right operands and assigns the resultant                                                   value to the left operand.\n",
    "\n",
    "4. Logical operators : It is used to do perform logical operatons based on the truth tables.\n",
    "   1. AND logical operator : It return true if both value is true otherwise false.\n",
    "   2. OR  logical operator : It return true if atleast one  value is true otherwise false.\n",
    "   3. NOT logical operator : It return true if the value is false\n",
    "\n",
    "5. Identity operator : Identity operators are used to compare the objects, not if they are equal, but if they are actually the same object, with the same memory location.\n",
    "   1. is identity operator : Returns True if both variables are the same object.\n",
    "   2. is not identity operator : Returns True if both variables are not the same object\n",
    "\n",
    "6. Membership Operators : Membership operators are used to test if a sequence is presented in an object\n",
    "   1. in Membership operator : Returns True if a sequence with the specified value is present in the object\n",
    "   2. not in Membership operator : \tReturns True if a sequence with the specified value is not present in the object\n",
    "\n",
    "7. Bitwise Operators : Bitwise operators are used to compare (binary) numbers\n",
    "   1.  & and  Operator :  Sets each bit to 1 if both bits are 1\n",
    "   2.  | or operator   :  Sets each bit to 1 if one of two bits is 1\n",
    "   3.  ^ Xor operator  :  Sets each bit to 1 if only one of two bits is 1"
   ]
  },
  {
   "cell_type": "code",
   "execution_count": 27,
   "id": "dc5c4c0d-bd0d-49ea-bfa7-6df385db2d07",
   "metadata": {},
   "outputs": [
    {
     "name": "stdout",
     "output_type": "stream",
     "text": [
      "Arithmetic Operations\n",
      " \n",
      "Addition 7\n",
      "Subtraction 3\n",
      "Multiplication 10\n",
      "Division 2.5\n",
      "floor Division 2\n",
      "Modulous  1\n"
     ]
    }
   ],
   "source": [
    "print(\"Arithmetic Operations\\n \")\n",
    "x = 5\n",
    "y = 2\n",
    "print(\"Addition\",x+y)\n",
    "print(\"Subtraction\",x-y)\n",
    "print(\"Multiplication\",x*y)\n",
    "print(\"Division\",x/y)\n",
    "print(\"floor Division\",x//y)\n",
    "print(\"Modulous \",x%y)"
   ]
  },
  {
   "cell_type": "code",
   "execution_count": 36,
   "id": "ad2df839-18c7-4d52-9513-f0d2618566da",
   "metadata": {},
   "outputs": [
    {
     "name": "stdout",
     "output_type": "stream",
     "text": [
      "Camparison operator\n",
      "\n",
      "not equal to: True\n",
      "Greater than:  True\n",
      "Greater than equals to: True\n",
      "Less than:  False\n",
      "less than equals to: False\n",
      "camparison :  False\n"
     ]
    }
   ],
   "source": [
    "print(\"Camparison operator\\n\")\n",
    "print(\"not equal to:\", x!=y)\n",
    "print(\"Greater than: \",x>y)\n",
    "print(\"Greater than equals to:\", x>=y)\n",
    "print(\"Less than: \",x<y)\n",
    "print(\"less than equals to:\", x<=y)\n",
    "print(\"camparison : \",x==y)"
   ]
  },
  {
   "cell_type": "code",
   "execution_count": 65,
   "id": "619a0239-342f-4225-ac21-12118a2ab18d",
   "metadata": {},
   "outputs": [
    {
     "name": "stdout",
     "output_type": "stream",
     "text": [
      "Assignment Operator\n",
      "\n",
      "Addition Assignment Operator ( += )\n",
      "7\n",
      "Subtraction Assignment Operator ( -= )\n",
      "5\n",
      "Multiplicaion Assignment Operator ( *= )\n",
      "10\n",
      "Division Assignment Operator ( /= )\n",
      "5.0\n",
      "Floor Division Assignment Operator ( //= )\n",
      "2.0\n",
      "Modulous Assignment Operator ( %= )\n",
      "1\n",
      "Exponential Assignment Operator ( **= )\n",
      "25\n"
     ]
    }
   ],
   "source": [
    "print(\"Assignment Operator\\n\")\n",
    "\n",
    "x =5\n",
    "y = 2\n",
    "print(\"Addition Assignment Operator ( += )\")\n",
    "x+=y\n",
    "print(x)\n",
    "print(\"Subtraction Assignment Operator ( -= )\")\n",
    "x-=y\n",
    "print(x)\n",
    "print(\"Multiplicaion Assignment Operator ( *= )\")\n",
    "x*=y\n",
    "print(x)\n",
    "print(\"Division Assignment Operator ( /= )\")\n",
    "x/=y\n",
    "print(x)\n",
    "print(\"Floor Division Assignment Operator ( //= )\")\n",
    "x//=y\n",
    "print(x)\n",
    "x =5\n",
    "print(\"Modulous Assignment Operator ( %= )\")\n",
    "x%=y\n",
    "print(x)\n",
    "x =5\n",
    "print(\"Exponential Assignment Operator ( **= )\")\n",
    "x**=y\n",
    "print(x)"
   ]
  },
  {
   "cell_type": "code",
   "execution_count": 74,
   "id": "33ba8e44-3217-4ba9-9455-c38123cc87e8",
   "metadata": {},
   "outputs": [
    {
     "name": "stdout",
     "output_type": "stream",
     "text": [
      "Logical Operator\n",
      "\n",
      "And operator: 2\n",
      "Or operator: 5\n",
      "not operator: False\n"
     ]
    }
   ],
   "source": [
    "print(\"Logical Operator\\n\")\n",
    "x = 5\n",
    "y = 2\n",
    "print(\"And operator:\",x and y)\n",
    "print(\"Or operator:\",x or y)\n",
    "print(\"not operator:\", not x)"
   ]
  },
  {
   "cell_type": "code",
   "execution_count": 79,
   "id": "0eae2e3c-b0bc-4291-8a7c-b271d8bffb05",
   "metadata": {},
   "outputs": [
    {
     "name": "stdout",
     "output_type": "stream",
     "text": [
      "Identity Operator\n",
      "\n",
      "is identity operator: False\n",
      "not is identity operator: True\n"
     ]
    }
   ],
   "source": [
    "print(\"Identity Operator\\n\")\n",
    "x = 5\n",
    "y = 2\n",
    "\n",
    "print(\"is identity operator:\", x is y)\n",
    "print(\"not is identity operator:\", x is not  y)\n"
   ]
  },
  {
   "cell_type": "code",
   "execution_count": 83,
   "id": "6d057e67-d7da-4731-b896-823125d3bf4e",
   "metadata": {},
   "outputs": [
    {
     "name": "stdout",
     "output_type": "stream",
     "text": [
      "Membership Operator\n",
      "\n",
      "In operator: False\n",
      "Not in operator: True\n"
     ]
    }
   ],
   "source": [
    "print(\"Membership Operator\\n\")\n",
    "x = \"string\"\n",
    "\n",
    "print('In operator:',  'a' in x) # check a in x = string\n",
    "print('Not in operator:',  'a' not in x)"
   ]
  },
  {
   "cell_type": "code",
   "execution_count": 92,
   "id": "518db2ec-dd88-4508-baff-1b95812a6d57",
   "metadata": {},
   "outputs": [
    {
     "name": "stdout",
     "output_type": "stream",
     "text": [
      "Bitwise Operator:\n",
      "\n",
      "bitwise and operator 0\n",
      "bitwise or operator 7\n",
      "bitwise xor operator 7\n"
     ]
    }
   ],
   "source": [
    "print(\"Bitwise Operator:\\n\")\n",
    "x = 5\n",
    "y = 2\n",
    "\n",
    "print(\"bitwise and operator\",x & y)\n",
    "print(\"bitwise or operator\",x | y)\n",
    "print(\"bitwise xor operator\",x ^ y)"
   ]
  },
  {
   "cell_type": "code",
   "execution_count": 89,
   "id": "1a308096-ad90-4825-be11-b319b0944df0",
   "metadata": {},
   "outputs": [
    {
     "data": {
      "text/plain": [
       "0"
      ]
     },
     "execution_count": 89,
     "metadata": {},
     "output_type": "execute_result"
    }
   ],
   "source": [
    "5 & 2"
   ]
  },
  {
   "cell_type": "code",
   "execution_count": 90,
   "id": "3efa77a5-7e3f-47be-bc86-9e4f02b733e2",
   "metadata": {},
   "outputs": [
    {
     "data": {
      "text/plain": [
       "7"
      ]
     },
     "execution_count": 90,
     "metadata": {},
     "output_type": "execute_result"
    }
   ],
   "source": [
    "5 | 2"
   ]
  },
  {
   "cell_type": "code",
   "execution_count": 93,
   "id": "11eae7ee-f5a3-42ef-8502-f927cb36b9b8",
   "metadata": {},
   "outputs": [
    {
     "data": {
      "text/plain": [
       "7"
      ]
     },
     "execution_count": 93,
     "metadata": {},
     "output_type": "execute_result"
    }
   ],
   "source": [
    "5 ^ 2"
   ]
  },
  {
   "cell_type": "code",
   "execution_count": null,
   "id": "62a36006-9d1a-4266-806b-8e6708581470",
   "metadata": {},
   "outputs": [],
   "source": []
  }
 ],
 "metadata": {
  "kernelspec": {
   "display_name": "Python 3 (ipykernel)",
   "language": "python",
   "name": "python3"
  },
  "language_info": {
   "codemirror_mode": {
    "name": "ipython",
    "version": 3
   },
   "file_extension": ".py",
   "mimetype": "text/x-python",
   "name": "python",
   "nbconvert_exporter": "python",
   "pygments_lexer": "ipython3",
   "version": "3.13.5"
  },
  "widgets": {
   "application/vnd.jupyter.widget-state+json": {
    "state": {},
    "version_major": 2,
    "version_minor": 0
   }
  }
 },
 "nbformat": 4,
 "nbformat_minor": 5
}
