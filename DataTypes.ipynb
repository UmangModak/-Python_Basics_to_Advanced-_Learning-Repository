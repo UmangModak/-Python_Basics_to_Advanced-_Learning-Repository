{
 "cells": [
  {
   "cell_type": "markdown",
   "id": "76753ed4-18c7-4d05-b127-06b438eb89e9",
   "metadata": {},
   "source": [
    "#### list methods\n",
    "Method\t      Description\n",
    "append()  Adds an element at the end of the list\n",
    "\n",
    "clear()\t  Removes all the elements from the list\n",
    "\n",
    "copy()\t  Returns a copy of the list\n",
    "\n",
    "count()\t  Returns the number of elements with the specified value\n",
    "\n",
    "extend()  Add the elements of a list (or any iterable), to the end of the current list\n",
    "\n",
    "index()\t  Returns the index of the first element with the specified value\n",
    "\n",
    "insert()  Adds an element at the specified position\n",
    "\n",
    "pop()\t  Removes the element at the specified position\n",
    "\n",
    "remove()  Removes the item with the specified value\n",
    "\n",
    "reverse() Reverses the order of the list\n",
    "\n",
    "sort()\t  Sorts the list"
   ]
  },
  {
   "cell_type": "code",
   "execution_count": 1,
   "id": "435995d5-c690-4fb9-9442-9288296a5dec",
   "metadata": {},
   "outputs": [],
   "source": [
    "my_list = [\"Python\", 56, 76.09, True ,\"\", False,56+22j, 56]"
   ]
  },
  {
   "cell_type": "code",
   "execution_count": 2,
   "id": "d6eeb4b1-fc16-4a18-9158-b27d9535bbef",
   "metadata": {},
   "outputs": [
    {
     "data": {
      "text/plain": [
       "['Python', 56, 76.09, True, '', False, (56+22j), 56]"
      ]
     },
     "execution_count": 2,
     "metadata": {},
     "output_type": "execute_result"
    }
   ],
   "source": [
    "my_list"
   ]
  },
  {
   "cell_type": "markdown",
   "id": "cb817a22-2d8f-4a74-93db-2c51b4d074d9",
   "metadata": {},
   "source": [
    "## indexsing and slicing "
   ]
  },
  {
   "cell_type": "code",
   "execution_count": 3,
   "id": "e144c7b2-aee4-4c42-8be2-e642c72fa1e2",
   "metadata": {},
   "outputs": [
    {
     "data": {
      "text/plain": [
       "'Python'"
      ]
     },
     "execution_count": 3,
     "metadata": {},
     "output_type": "execute_result"
    }
   ],
   "source": [
    "# indexsing and slicing \n",
    "my_list[0]"
   ]
  },
  {
   "cell_type": "code",
   "execution_count": 4,
   "id": "753fabbf-21c5-48f8-87ba-79294dc06aff",
   "metadata": {},
   "outputs": [
    {
     "data": {
      "text/plain": [
       "56"
      ]
     },
     "execution_count": 4,
     "metadata": {},
     "output_type": "execute_result"
    }
   ],
   "source": [
    "my_list[1]"
   ]
  },
  {
   "cell_type": "code",
   "execution_count": 8,
   "id": "6deb989c-a861-4a6d-94c4-a10b337133df",
   "metadata": {},
   "outputs": [
    {
     "data": {
      "text/plain": [
       "[56, 76.09, True, '']"
      ]
     },
     "execution_count": 8,
     "metadata": {},
     "output_type": "execute_result"
    }
   ],
   "source": [
    "my_list[1:5]"
   ]
  },
  {
   "cell_type": "code",
   "execution_count": 9,
   "id": "4472d41f-c7f0-4f65-822f-3c935170da03",
   "metadata": {},
   "outputs": [
    {
     "data": {
      "text/plain": [
       "[56, True]"
      ]
     },
     "execution_count": 9,
     "metadata": {},
     "output_type": "execute_result"
    }
   ],
   "source": [
    "my_list[1:5:2]"
   ]
  },
  {
   "cell_type": "code",
   "execution_count": 11,
   "id": "0d91d4b7-c0aa-44ee-b504-bf2b4a69b218",
   "metadata": {},
   "outputs": [
    {
     "data": {
      "text/plain": [
       "56"
      ]
     },
     "execution_count": 11,
     "metadata": {},
     "output_type": "execute_result"
    }
   ],
   "source": [
    "my_list[-1] # negative indexing"
   ]
  },
  {
   "cell_type": "code",
   "execution_count": 17,
   "id": "ff48e905-1e1c-4dd2-8a82-3eb5674b983d",
   "metadata": {},
   "outputs": [
    {
     "data": {
      "text/plain": [
       "['', False, (56+22j), 56]"
      ]
     },
     "execution_count": 17,
     "metadata": {},
     "output_type": "execute_result"
    }
   ],
   "source": [
    "my_list[-4:]"
   ]
  },
  {
   "cell_type": "code",
   "execution_count": 18,
   "id": "fd39eb73-5dfd-43d1-88dd-0342bafc837b",
   "metadata": {},
   "outputs": [
    {
     "data": {
      "text/plain": [
       "[76.09, True, '', False]"
      ]
     },
     "execution_count": 18,
     "metadata": {},
     "output_type": "execute_result"
    }
   ],
   "source": [
    "my_list[-6:-2]"
   ]
  },
  {
   "cell_type": "markdown",
   "id": "379a6738-39c7-4647-9484-6073b6c13ad5",
   "metadata": {},
   "source": [
    "## adding element in the list "
   ]
  },
  {
   "cell_type": "code",
   "execution_count": 20,
   "id": "2a54e9bb-c917-4765-9c41-f069450c6a94",
   "metadata": {},
   "outputs": [
    {
     "data": {
      "text/plain": [
       "['Python', 56, 76.09, True, '', False, (56+22j), 56]"
      ]
     },
     "execution_count": 20,
     "metadata": {},
     "output_type": "execute_result"
    }
   ],
   "source": [
    "my_list"
   ]
  },
  {
   "cell_type": "code",
   "execution_count": 21,
   "id": "31e6384e-b3bf-4635-b420-f29ffe3907ef",
   "metadata": {},
   "outputs": [],
   "source": [
    "my_list[2] = 'Apple'"
   ]
  },
  {
   "cell_type": "code",
   "execution_count": 22,
   "id": "e758da19-3d75-427e-8595-ac70e892548d",
   "metadata": {},
   "outputs": [
    {
     "data": {
      "text/plain": [
       "['Python', 56, 'Apple', True, '', False, (56+22j), 56]"
      ]
     },
     "execution_count": 22,
     "metadata": {},
     "output_type": "execute_result"
    }
   ],
   "source": [
    "my_list"
   ]
  },
  {
   "cell_type": "code",
   "execution_count": 23,
   "id": "4e75fabf-003a-4ef0-a967-6009153fc50b",
   "metadata": {},
   "outputs": [],
   "source": [
    "my_list.insert(2,'orange')"
   ]
  },
  {
   "cell_type": "code",
   "execution_count": 24,
   "id": "89fadcd1-a310-4d5c-add9-fa3698b2522f",
   "metadata": {},
   "outputs": [
    {
     "data": {
      "text/plain": [
       "['Python', 56, 'orange', 'Apple', True, '', False, (56+22j), 56]"
      ]
     },
     "execution_count": 24,
     "metadata": {},
     "output_type": "execute_result"
    }
   ],
   "source": [
    "my_list"
   ]
  },
  {
   "cell_type": "code",
   "execution_count": 25,
   "id": "efff37ea-211e-4d96-8218-f23f997264b4",
   "metadata": {},
   "outputs": [],
   "source": [
    "my_list.append('Banana')"
   ]
  },
  {
   "cell_type": "code",
   "execution_count": 26,
   "id": "4588524f-6f76-47cf-ab07-74d930a7429d",
   "metadata": {},
   "outputs": [
    {
     "data": {
      "text/plain": [
       "['Python', 56, 'orange', 'Apple', True, '', False, (56+22j), 56, 'Banana']"
      ]
     },
     "execution_count": 26,
     "metadata": {},
     "output_type": "execute_result"
    }
   ],
   "source": [
    "my_list"
   ]
  },
  {
   "cell_type": "markdown",
   "id": "3280f862-d418-40a0-81c2-1639e2ace0a8",
   "metadata": {},
   "source": [
    "There are three ways to add or append element in the list \n",
    "1. put first position and then assign value it will append the value in that position\n",
    "2. insert method : it is a built in function use to insert element. syntax for this is insert(position , element). it will update list on that location.\n",
    "3. append method : it is also built in function , in this we have followed a syntax list_name.append(element). it will update the element in the list at the last of the list"
   ]
  },
  {
   "cell_type": "markdown",
   "id": "55c4ffe5-f2ba-4a9c-8845-10781d9ff315",
   "metadata": {},
   "source": [
    "## Removing element in the list"
   ]
  },
  {
   "cell_type": "code",
   "execution_count": 27,
   "id": "dcfc7c83-d0fe-4058-a95b-6397f9175537",
   "metadata": {},
   "outputs": [],
   "source": [
    "# remove at specified item"
   ]
  },
  {
   "cell_type": "code",
   "execution_count": null,
   "id": "38d1cb6f-56bd-4319-a150-69e557d3011b",
   "metadata": {},
   "outputs": [],
   "source": [
    "1. The remove() method removes the specified item.\n",
    "2. The pop() method removes the specified index.\n",
    "3. The del keyword also removes the specified index , if didnt provide index then it will delete the entire list \n",
    "4. The clear() method empties the list.The list still remains, but gives empty list."
   ]
  },
  {
   "cell_type": "code",
   "execution_count": 28,
   "id": "be23dcf0-4ce7-4e6d-bdc8-229c869d5c10",
   "metadata": {},
   "outputs": [
    {
     "data": {
      "text/plain": [
       "['Python', 56, 'orange', 'Apple', True, '', False, (56+22j), 56, 'Banana']"
      ]
     },
     "execution_count": 28,
     "metadata": {},
     "output_type": "execute_result"
    }
   ],
   "source": [
    "my_list"
   ]
  },
  {
   "cell_type": "code",
   "execution_count": 29,
   "id": "679d8168-6e4a-42a5-8074-cd72879ab470",
   "metadata": {},
   "outputs": [],
   "source": [
    "my_list.remove(56+22j)"
   ]
  },
  {
   "cell_type": "code",
   "execution_count": 30,
   "id": "867a3862-06b8-43a6-902c-73c07637ad35",
   "metadata": {},
   "outputs": [
    {
     "data": {
      "text/plain": [
       "['Python', 56, 'orange', 'Apple', True, '', False, 56, 'Banana']"
      ]
     },
     "execution_count": 30,
     "metadata": {},
     "output_type": "execute_result"
    }
   ],
   "source": [
    "my_list"
   ]
  },
  {
   "cell_type": "code",
   "execution_count": 31,
   "id": "208a5bb1-e839-486e-b304-5e2cc0774e51",
   "metadata": {},
   "outputs": [
    {
     "data": {
      "text/plain": [
       "56"
      ]
     },
     "execution_count": 31,
     "metadata": {},
     "output_type": "execute_result"
    }
   ],
   "source": [
    "my_list.pop(1)"
   ]
  },
  {
   "cell_type": "code",
   "execution_count": 32,
   "id": "b29de5f3-7772-4e8b-a848-00b43d93ffdc",
   "metadata": {},
   "outputs": [
    {
     "data": {
      "text/plain": [
       "['Python', 'orange', 'Apple', True, '', False, 56, 'Banana']"
      ]
     },
     "execution_count": 32,
     "metadata": {},
     "output_type": "execute_result"
    }
   ],
   "source": [
    "my_list"
   ]
  },
  {
   "cell_type": "code",
   "execution_count": 36,
   "id": "62bb37f3-04d2-433b-829d-61b8d8b562bd",
   "metadata": {},
   "outputs": [
    {
     "data": {
      "text/plain": [
       "['Python', 'orange', 'Apple', True, '', False]"
      ]
     },
     "execution_count": 36,
     "metadata": {},
     "output_type": "execute_result"
    }
   ],
   "source": [
    "my_list"
   ]
  },
  {
   "cell_type": "code",
   "execution_count": 35,
   "id": "8e01e559-64b2-4f08-9d39-52d20311db6e",
   "metadata": {},
   "outputs": [
    {
     "data": {
      "text/plain": [
       "56"
      ]
     },
     "execution_count": 35,
     "metadata": {},
     "output_type": "execute_result"
    }
   ],
   "source": [
    "my_list.pop() # if we do not specify index then it will remove last element "
   ]
  },
  {
   "cell_type": "code",
   "execution_count": 37,
   "id": "6a5380aa-45b3-41de-9650-e56a8af055fe",
   "metadata": {},
   "outputs": [
    {
     "data": {
      "text/plain": [
       "['Python', 'orange', 'Apple', True, '', False]"
      ]
     },
     "execution_count": 37,
     "metadata": {},
     "output_type": "execute_result"
    }
   ],
   "source": [
    "my_list"
   ]
  },
  {
   "cell_type": "code",
   "execution_count": 38,
   "id": "5d21abdf-9be3-494b-9ff3-57e7a3846338",
   "metadata": {},
   "outputs": [],
   "source": [
    "del my_list[0]"
   ]
  },
  {
   "cell_type": "code",
   "execution_count": 39,
   "id": "08a78dd5-a630-4492-93a9-a57bae01fdbb",
   "metadata": {},
   "outputs": [
    {
     "data": {
      "text/plain": [
       "['orange', 'Apple', True, '', False]"
      ]
     },
     "execution_count": 39,
     "metadata": {},
     "output_type": "execute_result"
    }
   ],
   "source": [
    "my_list"
   ]
  },
  {
   "cell_type": "code",
   "execution_count": 41,
   "id": "55d7b345-abb8-43ce-9125-7df69f6af816",
   "metadata": {},
   "outputs": [],
   "source": [
    "my_list.clear()"
   ]
  },
  {
   "cell_type": "code",
   "execution_count": 42,
   "id": "c14f1a8d-c700-4dc3-b7f8-76a7274ddcdf",
   "metadata": {},
   "outputs": [
    {
     "data": {
      "text/plain": [
       "[]"
      ]
     },
     "execution_count": 42,
     "metadata": {},
     "output_type": "execute_result"
    }
   ],
   "source": [
    "my_list"
   ]
  },
  {
   "cell_type": "markdown",
   "id": "a9ddad07-5566-428a-a341-647562a5f3ac",
   "metadata": {},
   "source": [
    "## sorting , copy and joining list"
   ]
  },
  {
   "cell_type": "code",
   "execution_count": 50,
   "id": "0dc79419-8cf0-4e75-89a0-5a7bb16e63b8",
   "metadata": {},
   "outputs": [],
   "source": [
    "my_list = ['Banana','Apple','Orange','kiwi','Mango']"
   ]
  },
  {
   "cell_type": "code",
   "execution_count": 51,
   "id": "7b66b1bf-c8a4-499a-a7b4-8f20f24de4ba",
   "metadata": {},
   "outputs": [],
   "source": [
    "my_list.sort()"
   ]
  },
  {
   "cell_type": "code",
   "execution_count": 52,
   "id": "d54c01e3-a4ba-462c-9f4c-77ece366a6f4",
   "metadata": {},
   "outputs": [
    {
     "data": {
      "text/plain": [
       "['Apple', 'Banana', 'Mango', 'Orange', 'kiwi']"
      ]
     },
     "execution_count": 52,
     "metadata": {},
     "output_type": "execute_result"
    }
   ],
   "source": [
    "my_list"
   ]
  },
  {
   "cell_type": "code",
   "execution_count": 53,
   "id": "770ded0d-06e5-4717-b54f-463cea71a50f",
   "metadata": {},
   "outputs": [],
   "source": [
    "my_list.sort(reverse=True)"
   ]
  },
  {
   "cell_type": "code",
   "execution_count": 54,
   "id": "b3ad18ec-d6be-492f-983e-97f5e721fa4a",
   "metadata": {},
   "outputs": [
    {
     "data": {
      "text/plain": [
       "['kiwi', 'Orange', 'Mango', 'Banana', 'Apple']"
      ]
     },
     "execution_count": 54,
     "metadata": {},
     "output_type": "execute_result"
    }
   ],
   "source": [
    "my_list"
   ]
  },
  {
   "cell_type": "code",
   "execution_count": 55,
   "id": "abcdfea8-0321-4897-8983-5808d274f3cd",
   "metadata": {},
   "outputs": [],
   "source": [
    "my_list.reverse()"
   ]
  },
  {
   "cell_type": "code",
   "execution_count": 56,
   "id": "7d1cc0d6-f095-41a7-828c-ecf3f781e6ab",
   "metadata": {},
   "outputs": [
    {
     "data": {
      "text/plain": [
       "['Apple', 'Banana', 'Mango', 'Orange', 'kiwi']"
      ]
     },
     "execution_count": 56,
     "metadata": {},
     "output_type": "execute_result"
    }
   ],
   "source": [
    "my_list"
   ]
  },
  {
   "cell_type": "markdown",
   "id": "c2e98d94-84ad-4cd1-9958-eced3fea74fb",
   "metadata": {},
   "source": [
    "### Copy"
   ]
  },
  {
   "cell_type": "code",
   "execution_count": 57,
   "id": "effbff3c-7612-448f-b120-045953815650",
   "metadata": {},
   "outputs": [
    {
     "data": {
      "text/plain": [
       "['Apple', 'Banana', 'Mango', 'Orange', 'kiwi']"
      ]
     },
     "execution_count": 57,
     "metadata": {},
     "output_type": "execute_result"
    }
   ],
   "source": [
    "my_list"
   ]
  },
  {
   "cell_type": "code",
   "execution_count": 59,
   "id": "da6648ed-0d10-4f53-a0d4-7ef043a7cb3a",
   "metadata": {},
   "outputs": [
    {
     "data": {
      "text/plain": [
       "['Apple', 'Banana', 'Mango', 'Orange', 'kiwi']"
      ]
     },
     "execution_count": 59,
     "metadata": {},
     "output_type": "execute_result"
    }
   ],
   "source": [
    "copy_list = my_list.copy()\n",
    "copy_list"
   ]
  },
  {
   "cell_type": "code",
   "execution_count": 60,
   "id": "e6ae0118-0625-4389-bdf1-e01063b83c5f",
   "metadata": {},
   "outputs": [],
   "source": [
    "copied_list = my_list[:]"
   ]
  },
  {
   "cell_type": "code",
   "execution_count": 61,
   "id": "ba61ed22-8e62-4c3e-abbc-f3c0b2451fc5",
   "metadata": {},
   "outputs": [
    {
     "data": {
      "text/plain": [
       "['Apple', 'Banana', 'Mango', 'Orange', 'kiwi']"
      ]
     },
     "execution_count": 61,
     "metadata": {},
     "output_type": "execute_result"
    }
   ],
   "source": [
    "copied_list"
   ]
  },
  {
   "cell_type": "markdown",
   "id": "7202b496-4d6a-4432-84fd-37314d7d60b1",
   "metadata": {},
   "source": [
    "### Join"
   ]
  },
  {
   "cell_type": "code",
   "execution_count": 62,
   "id": "36445d96-d27c-4c5d-a723-a4e6ea6f1dec",
   "metadata": {},
   "outputs": [
    {
     "data": {
      "text/plain": [
       "['Apple', 'Banana', 'Mango', 'Orange', 'kiwi']"
      ]
     },
     "execution_count": 62,
     "metadata": {},
     "output_type": "execute_result"
    }
   ],
   "source": [
    "my_list "
   ]
  },
  {
   "cell_type": "code",
   "execution_count": 63,
   "id": "fdaac0b9-b552-4e63-8aa4-c942844f9ce8",
   "metadata": {},
   "outputs": [],
   "source": [
    "num_list = [21,23,24,43,45]"
   ]
  },
  {
   "cell_type": "code",
   "execution_count": 64,
   "id": "a3ccd06f-541c-416a-bb41-be5606cb4a41",
   "metadata": {},
   "outputs": [],
   "source": [
    "joined_list = my_list +num_list"
   ]
  },
  {
   "cell_type": "code",
   "execution_count": 65,
   "id": "290946eb-7ab9-48c2-b3e8-40ac05e46cdb",
   "metadata": {},
   "outputs": [
    {
     "data": {
      "text/plain": [
       "['Apple', 'Banana', 'Mango', 'Orange', 'kiwi', 21, 23, 24, 43, 45]"
      ]
     },
     "execution_count": 65,
     "metadata": {},
     "output_type": "execute_result"
    }
   ],
   "source": [
    "joined_list"
   ]
  },
  {
   "cell_type": "code",
   "execution_count": 66,
   "id": "57a40b14-e0b2-40a2-a19e-08d08931b35f",
   "metadata": {},
   "outputs": [
    {
     "data": {
      "text/plain": [
       "['Apple', 'Banana', 'Mango', 'Orange', 'kiwi']"
      ]
     },
     "execution_count": 66,
     "metadata": {},
     "output_type": "execute_result"
    }
   ],
   "source": [
    "my_list"
   ]
  },
  {
   "cell_type": "code",
   "execution_count": 67,
   "id": "a40900a8-58ca-4892-ace6-9b47cf6c9b6f",
   "metadata": {},
   "outputs": [],
   "source": [
    "my_list.extend([\"Papaya\",\"cherry\"])"
   ]
  },
  {
   "cell_type": "code",
   "execution_count": 68,
   "id": "5ccbeb66-c041-4e47-b63e-3b2629807271",
   "metadata": {},
   "outputs": [
    {
     "data": {
      "text/plain": [
       "['Apple', 'Banana', 'Mango', 'Orange', 'kiwi', 'Papaya', 'cherry']"
      ]
     },
     "execution_count": 68,
     "metadata": {},
     "output_type": "execute_result"
    }
   ],
   "source": [
    "my_list"
   ]
  },
  {
   "cell_type": "markdown",
   "id": "f14814fc-c115-4de1-8a4b-2bce5e47a09d",
   "metadata": {},
   "source": [
    "### Tuples  : \n",
    "A tuple is a collection which is ordered and unchangeable.\n",
    "\n",
    "Tuples are written with round brackets. ()\n"
   ]
  },
  {
   "cell_type": "code",
   "execution_count": 95,
   "id": "c8465e49-7218-4528-b3af-fa17e1e5688e",
   "metadata": {},
   "outputs": [],
   "source": [
    "my_tuple = ('Banana','Apple','Orange','kiwi','Mango','Banana', 12, 43.2)"
   ]
  },
  {
   "cell_type": "code",
   "execution_count": 96,
   "id": "18448f2a-91df-4d66-bbb9-763ebb51475c",
   "metadata": {},
   "outputs": [
    {
     "data": {
      "text/plain": [
       "('Banana', 'Apple', 'Orange', 'kiwi', 'Mango', 'Banana', 12, 43.2)"
      ]
     },
     "execution_count": 96,
     "metadata": {},
     "output_type": "execute_result"
    }
   ],
   "source": [
    "my_tuple"
   ]
  },
  {
   "cell_type": "raw",
   "id": "5b504de7-ed17-4c10-9b60-3479937323d7",
   "metadata": {},
   "source": [
    "indexing and slicing"
   ]
  },
  {
   "cell_type": "code",
   "execution_count": 97,
   "id": "1a0a949c-3c85-4a78-8202-b89fd9f059d8",
   "metadata": {},
   "outputs": [
    {
     "data": {
      "text/plain": [
       "'Banana'"
      ]
     },
     "execution_count": 97,
     "metadata": {},
     "output_type": "execute_result"
    }
   ],
   "source": [
    "my_tuple[0]"
   ]
  },
  {
   "cell_type": "code",
   "execution_count": 98,
   "id": "33baceab-2f62-4dc5-adf1-cdb99eabb937",
   "metadata": {},
   "outputs": [
    {
     "data": {
      "text/plain": [
       "'Orange'"
      ]
     },
     "execution_count": 98,
     "metadata": {},
     "output_type": "execute_result"
    }
   ],
   "source": [
    "my_tuple[2]"
   ]
  },
  {
   "cell_type": "code",
   "execution_count": 99,
   "id": "701e5292-45d7-4d23-88d8-e45915f3850b",
   "metadata": {},
   "outputs": [
    {
     "data": {
      "text/plain": [
       "43.2"
      ]
     },
     "execution_count": 99,
     "metadata": {},
     "output_type": "execute_result"
    }
   ],
   "source": [
    "my_tuple[-1]"
   ]
  },
  {
   "cell_type": "code",
   "execution_count": 100,
   "id": "18719532-2889-4fd8-b0ac-c683d52b73ed",
   "metadata": {},
   "outputs": [
    {
     "data": {
      "text/plain": [
       "'kiwi'"
      ]
     },
     "execution_count": 100,
     "metadata": {},
     "output_type": "execute_result"
    }
   ],
   "source": [
    "my_tuple[-5]"
   ]
  },
  {
   "cell_type": "code",
   "execution_count": 101,
   "id": "c952bfdb-16af-4503-8261-731ec2466de0",
   "metadata": {},
   "outputs": [
    {
     "data": {
      "text/plain": [
       "('Mango', 'Banana', 12)"
      ]
     },
     "execution_count": 101,
     "metadata": {},
     "output_type": "execute_result"
    }
   ],
   "source": [
    "my_tuple[-4:-1]"
   ]
  },
  {
   "cell_type": "markdown",
   "id": "de1388c9-fe6d-4fd7-bc45-ef7a82d27ab1",
   "metadata": {},
   "source": [
    "##### Adding item to tuple is not possible directly but we can add by converting into list first and then list to tuple"
   ]
  },
  {
   "cell_type": "code",
   "execution_count": 102,
   "id": "0f9d9ad1-0b39-42a5-9493-ec1f0bb8c0b7",
   "metadata": {},
   "outputs": [
    {
     "data": {
      "text/plain": [
       "('Banana', 'Apple', 'Orange', 'kiwi', 'Mango', 'Banana', 12, 43.2)"
      ]
     },
     "execution_count": 102,
     "metadata": {},
     "output_type": "execute_result"
    }
   ],
   "source": [
    "my_tuple"
   ]
  },
  {
   "cell_type": "code",
   "execution_count": 103,
   "id": "3cc3b4c1-f506-46f5-8384-f3d89dca0957",
   "metadata": {},
   "outputs": [],
   "source": [
    "my_list = list(my_tuple)"
   ]
  },
  {
   "cell_type": "code",
   "execution_count": 104,
   "id": "69461964-27a4-4e4b-896a-c7d462463a15",
   "metadata": {},
   "outputs": [],
   "source": [
    "my_list.append(100)"
   ]
  },
  {
   "cell_type": "code",
   "execution_count": 105,
   "id": "a8409408-4d2f-452a-9be6-f95dcb27674e",
   "metadata": {},
   "outputs": [],
   "source": [
    "my_tuple = tuple(my_list)"
   ]
  },
  {
   "cell_type": "code",
   "execution_count": 106,
   "id": "f6f24a06-9196-4b32-978b-d3cd3710be02",
   "metadata": {},
   "outputs": [
    {
     "data": {
      "text/plain": [
       "('Banana', 'Apple', 'Orange', 'kiwi', 'Mango', 'Banana', 12, 43.2, 100)"
      ]
     },
     "execution_count": 106,
     "metadata": {},
     "output_type": "execute_result"
    }
   ],
   "source": [
    "my_tuple"
   ]
  },
  {
   "cell_type": "code",
   "execution_count": 107,
   "id": "2e5afef2-21d4-4e94-a3c2-393175a4dbe4",
   "metadata": {},
   "outputs": [],
   "source": [
    "new_tuple = (\"python\",\"Prograaming\")"
   ]
  },
  {
   "cell_type": "code",
   "execution_count": 92,
   "id": "48d7162a-a889-42b4-9066-5cedd6753186",
   "metadata": {},
   "outputs": [],
   "source": [
    "my_tuple = new_tuple"
   ]
  },
  {
   "cell_type": "code",
   "execution_count": 108,
   "id": "fae9ac86-717f-44a6-9061-a9d70d0a2d21",
   "metadata": {},
   "outputs": [
    {
     "name": "stdout",
     "output_type": "stream",
     "text": [
      "('Banana', 'Apple', 'Orange', 'kiwi', 'Mango', 'Banana', 12, 43.2, 100, 'python', 'Prograaming')\n"
     ]
    }
   ],
   "source": [
    "new_tuple = (\"python\",\"Prograaming\")\n",
    "my_tuple += new_tuple\n",
    "\n",
    "print(my_tuple)"
   ]
  },
  {
   "cell_type": "markdown",
   "id": "abec9e92-8ed6-42e8-bf1c-3bd4b700308f",
   "metadata": {},
   "source": [
    "#### joining tuple"
   ]
  },
  {
   "cell_type": "code",
   "execution_count": 109,
   "id": "70c70303-a325-4f0d-b1d2-c42db2582a33",
   "metadata": {},
   "outputs": [],
   "source": [
    "num_tuple = (1,2,21.23,43)\n",
    "alph_tuple = (\"a\",\"b\",\"c\",\"d\")"
   ]
  },
  {
   "cell_type": "code",
   "execution_count": 113,
   "id": "70ff180d-a82e-41c7-8b72-21ab6de09297",
   "metadata": {},
   "outputs": [],
   "source": [
    "tuples = num_tuple+alph_tuple"
   ]
  },
  {
   "cell_type": "code",
   "execution_count": 114,
   "id": "a743a124-3f69-4914-9d14-f0a726ef000b",
   "metadata": {},
   "outputs": [
    {
     "data": {
      "text/plain": [
       "(1, 2, 21.23, 43, 'a', 'b', 'c', 'd')"
      ]
     },
     "execution_count": 114,
     "metadata": {},
     "output_type": "execute_result"
    }
   ],
   "source": [
    "tuples"
   ]
  },
  {
   "cell_type": "code",
   "execution_count": 115,
   "id": "dd8cb9b6-c53f-4fe0-9e15-95104edba5ee",
   "metadata": {},
   "outputs": [
    {
     "data": {
      "text/plain": [
       "1"
      ]
     },
     "execution_count": 115,
     "metadata": {},
     "output_type": "execute_result"
    }
   ],
   "source": [
    "tuples.count(1)"
   ]
  },
  {
   "cell_type": "code",
   "execution_count": 117,
   "id": "8004e7b2-7fed-4c38-9a68-6c4b968dcd70",
   "metadata": {},
   "outputs": [
    {
     "data": {
      "text/plain": [
       "4"
      ]
     },
     "execution_count": 117,
     "metadata": {},
     "output_type": "execute_result"
    }
   ],
   "source": [
    "tuples.index('a')"
   ]
  },
  {
   "cell_type": "markdown",
   "id": "402b56a7-93c8-4ed2-86ab-edb9edca9826",
   "metadata": {},
   "source": [
    "### Sets \n",
    "\n",
    "Set items are unordered, unchangeable, and do not allow duplicate values.\n",
    "\n",
    "created by using curly braces {}"
   ]
  },
  {
   "cell_type": "code",
   "execution_count": 118,
   "id": "fb7ee70d-29c5-47c4-ab0f-7cf46a777fd4",
   "metadata": {},
   "outputs": [],
   "source": [
    "my_set= {\"one\",\"Two\",\"Three\",21,32}"
   ]
  },
  {
   "cell_type": "code",
   "execution_count": 119,
   "id": "bcc433f9-90a3-44ee-9610-072af76ebd6c",
   "metadata": {},
   "outputs": [
    {
     "data": {
      "text/plain": [
       "{21, 32, 'Three', 'Two', 'one'}"
      ]
     },
     "execution_count": 119,
     "metadata": {},
     "output_type": "execute_result"
    }
   ],
   "source": [
    "my_set"
   ]
  },
  {
   "cell_type": "markdown",
   "id": "cf950a12-5de2-4a49-9e55-7110e034323b",
   "metadata": {},
   "source": [
    "#### Adding element in set"
   ]
  },
  {
   "cell_type": "code",
   "execution_count": 121,
   "id": "6d46feb0-d2d2-4356-bc61-66a67041f680",
   "metadata": {},
   "outputs": [],
   "source": [
    "my_set.add(\"four\")"
   ]
  },
  {
   "cell_type": "code",
   "execution_count": 122,
   "id": "4f7aca8c-176d-46b8-9d35-651e50877948",
   "metadata": {},
   "outputs": [
    {
     "data": {
      "text/plain": [
       "{21, 32, 'Three', 'Two', 'four', 'one'}"
      ]
     },
     "execution_count": 122,
     "metadata": {},
     "output_type": "execute_result"
    }
   ],
   "source": [
    "my_set"
   ]
  },
  {
   "cell_type": "code",
   "execution_count": 124,
   "id": "ef1699d3-eaab-4c69-a86d-4697cab28a5d",
   "metadata": {},
   "outputs": [],
   "source": [
    "my_set.update(\"fortyone\")"
   ]
  },
  {
   "cell_type": "code",
   "execution_count": 125,
   "id": "740f077b-6df0-4551-9ba7-a77bde860b6e",
   "metadata": {},
   "outputs": [
    {
     "data": {
      "text/plain": [
       "{21, 32, 'Three', 'Two', 'e', 'f', 'four', 'n', 'o', 'one', 'r', 't', 'y'}"
      ]
     },
     "execution_count": 125,
     "metadata": {},
     "output_type": "execute_result"
    }
   ],
   "source": [
    "my_set"
   ]
  },
  {
   "cell_type": "markdown",
   "id": "2cf83838-9e50-45bc-95f6-5b9b53767c08",
   "metadata": {},
   "source": [
    "#### Removing element in the list"
   ]
  },
  {
   "cell_type": "raw",
   "id": "8f77f5e5-a837-41a4-a097-caa75d0bad0c",
   "metadata": {},
   "source": [
    "1. The remove() method removes the specified item.\n",
    "2. The pop() method removes the specified index.\n",
    "3. The del keyword also removes the specified index , if didnt provide index then it will delete the entire set \n",
    "4. The clear() method empties the list.The list still remains, but gives empty set."
   ]
  },
  {
   "cell_type": "code",
   "execution_count": 126,
   "id": "8e412903-e05a-4c83-b884-d0e40701d45c",
   "metadata": {},
   "outputs": [],
   "source": [
    "my_set.remove('e')"
   ]
  },
  {
   "cell_type": "code",
   "execution_count": 127,
   "id": "60901481-2f81-4f56-8534-47a347466460",
   "metadata": {},
   "outputs": [],
   "source": [
    "my_set.remove('f')"
   ]
  },
  {
   "cell_type": "code",
   "execution_count": 128,
   "id": "f67bc04f-92b4-45ae-b178-f2048d1b56b1",
   "metadata": {},
   "outputs": [
    {
     "data": {
      "text/plain": [
       "{21, 32, 'Three', 'Two', 'four', 'n', 'o', 'one', 'r', 't', 'y'}"
      ]
     },
     "execution_count": 128,
     "metadata": {},
     "output_type": "execute_result"
    }
   ],
   "source": [
    "my_set"
   ]
  },
  {
   "cell_type": "code",
   "execution_count": 129,
   "id": "a868f1c0-3c12-46eb-928d-be3bfff71059",
   "metadata": {},
   "outputs": [],
   "source": [
    "my_set.discard('n')"
   ]
  },
  {
   "cell_type": "code",
   "execution_count": 130,
   "id": "e2a9e861-9083-41f2-a63e-f7dd620e8eca",
   "metadata": {},
   "outputs": [],
   "source": [
    "my_set.discard('o')"
   ]
  },
  {
   "cell_type": "code",
   "execution_count": 131,
   "id": "10019af9-fb15-471a-928e-cf0722641cc6",
   "metadata": {},
   "outputs": [
    {
     "data": {
      "text/plain": [
       "{21, 32, 'Three', 'Two', 'four', 'one', 'r', 't', 'y'}"
      ]
     },
     "execution_count": 131,
     "metadata": {},
     "output_type": "execute_result"
    }
   ],
   "source": [
    "my_set"
   ]
  },
  {
   "cell_type": "code",
   "execution_count": 133,
   "id": "76b7c565-4f47-4a7e-97d1-bd023c7cfe0c",
   "metadata": {},
   "outputs": [
    {
     "data": {
      "text/plain": [
       "'Three'"
      ]
     },
     "execution_count": 133,
     "metadata": {},
     "output_type": "execute_result"
    }
   ],
   "source": [
    "my_set.pop()"
   ]
  },
  {
   "cell_type": "code",
   "execution_count": 134,
   "id": "46abdbc6-46ae-446f-8562-1677c3dc3615",
   "metadata": {},
   "outputs": [],
   "source": [
    "my_set.clear()"
   ]
  },
  {
   "cell_type": "code",
   "execution_count": 135,
   "id": "ebacbf23-e9e0-4483-9228-8fbd81851d2c",
   "metadata": {},
   "outputs": [
    {
     "data": {
      "text/plain": [
       "set()"
      ]
     },
     "execution_count": 135,
     "metadata": {},
     "output_type": "execute_result"
    }
   ],
   "source": [
    "my_set"
   ]
  },
  {
   "cell_type": "markdown",
   "id": "f7b14426-6d70-4ab3-9705-ff327d5d0b74",
   "metadata": {},
   "source": [
    "#### Join in sets"
   ]
  },
  {
   "cell_type": "code",
   "execution_count": null,
   "id": "c0c6b9fd-7218-47b7-bbd5-a8826dace4b0",
   "metadata": {},
   "outputs": [],
   "source": [
    "The union() or | operator method returns a new set with all items from both sets."
   ]
  },
  {
   "cell_type": "code",
   "execution_count": 136,
   "id": "5e584293-5b28-49ac-9e2a-f17676d2399d",
   "metadata": {},
   "outputs": [
    {
     "name": "stdout",
     "output_type": "stream",
     "text": [
      "{'c', 1, 2, 3, 'b', 'a'}\n"
     ]
    }
   ],
   "source": [
    "set1 = {\"a\", \"b\", \"c\"}\n",
    "set2 = {1, 2, 3}\n",
    "\n",
    "set3 = set1.union(set2)\n",
    "print(set3)"
   ]
  },
  {
   "cell_type": "raw",
   "id": "0d49f01c-2d1e-4327-ac03-34c5f1dfab48",
   "metadata": {},
   "source": [
    "The update() method inserts all items from one set into another.The update() changes the original set, and does not return a new set."
   ]
  },
  {
   "cell_type": "code",
   "execution_count": 139,
   "id": "29349b18-23f3-4fcd-8858-1a4eedb15e58",
   "metadata": {},
   "outputs": [
    {
     "name": "stdout",
     "output_type": "stream",
     "text": [
      "{'c', 1, 2, 3, 'b', 'a'}\n"
     ]
    }
   ],
   "source": [
    "set1 = {\"a\", \"b\" , \"c\"}\n",
    "set2 = {1, 2, 3}\n",
    "\n",
    "set1.update(set2)\n",
    "print(set1)"
   ]
  },
  {
   "cell_type": "raw",
   "id": "95128fdc-3190-4c4f-a6dd-8f49aa9c9370",
   "metadata": {},
   "source": [
    "The intersection() method will return a new set, that only contains the items that are present in both sets."
   ]
  },
  {
   "cell_type": "code",
   "execution_count": 140,
   "id": "85d3b178-3272-423c-bb23-ab6107cddbb2",
   "metadata": {},
   "outputs": [
    {
     "name": "stdout",
     "output_type": "stream",
     "text": [
      "{'apple'}\n"
     ]
    }
   ],
   "source": [
    "set1 = {\"apple\", \"banana\", \"cherry\"}\n",
    "set2 = {\"google\", \"microsoft\", \"apple\"}\n",
    "\n",
    "set3 = set1.intersection(set2)\n",
    "print(set3)"
   ]
  },
  {
   "cell_type": "markdown",
   "id": "c6388665-b9f3-4b72-b54a-b48e16a28b54",
   "metadata": {},
   "source": [
    "### Also do the diffrent methods\n",
    "\n",
    "The union() and update() methods joins all items from both sets.\n",
    "\n",
    "The intersection() method keeps ONLY the duplicates.\n",
    "\n",
    "The difference() method keeps the items from the first set that are not in the other set(s).\n",
    "\n",
    "The symmetric_difference() method keeps all items EXCEPT the duplicates."
   ]
  },
  {
   "cell_type": "markdown",
   "id": "730edb12-368c-474c-b9d9-d0e06f43bd1f",
   "metadata": {},
   "source": []
  },
  {
   "cell_type": "raw",
   "id": "5a6604e1-cf46-4337-87bc-94ea48189f92",
   "metadata": {},
   "source": [
    "Method\tShortcut\tDescription\n",
    "1.add()\t \tAdds an element to the set\n",
    "2.clear()\t \tRemoves all the elements from the set\n",
    "3.copy()\t \tReturns a copy of the set\n",
    "4.difference()\t-\tReturns a set containing the difference between two or more sets\n",
    "5.difference_update()\t-=\tRemoves the items in this set that are also included in another, specified set\n",
    "6.discard()\t \tRemove the specified item\n",
    "7.intersection()\t&\tReturns a set, that is the intersection of two other sets\n",
    "8.intersection_update()\t&=\tRemoves the items in this set that are not present in other, specified set(s)\n",
    "9.isdisjoint()\t \tReturns whether two sets have a intersection or not\n",
    "10.issubset()\t<=\tReturns True if all items of this set is present in another set\n",
    " \t<\tReturns True if all items of this set is present in another, larger set\n",
    "11.issuperset()\t>=\tReturns True if all items of another set is present in this set\n",
    " \t>\tReturns True if all items of another, smaller set is present in this set\n",
    "12.pop()\t \tRemoves an element from the set\n",
    "13.remove()\t \tRemoves the specified element\n",
    "14.symmetric_difference()\t^\tReturns a set with the symmetric differences of two sets\n",
    "15.symmetric_difference_update()\t^=\tInserts the symmetric differences from this set and another\n",
    "16.union()\t|\tReturn a set containing the union of sets\n",
    "17.update()\t|=\tUpdate the set with the union of this set and others"
   ]
  },
  {
   "cell_type": "markdown",
   "id": "2968900c-00c0-4959-b1cf-6b955ddbb0c3",
   "metadata": {},
   "source": [
    "### Dictionary\n",
    "Dictionaries are used to store data values in key:value pairs.\n",
    "\n",
    "A dictionary is a collection which is ordered, changeable and do not allow duplicates.\n",
    "it is followed by {} curly braces"
   ]
  },
  {
   "cell_type": "code",
   "execution_count": 146,
   "id": "99f75911-9cb0-4ca9-8fbd-91cbc665e185",
   "metadata": {},
   "outputs": [],
   "source": [
    "my_dict = {\"cars\":'Bmw','fruit':'Banana'}"
   ]
  },
  {
   "cell_type": "code",
   "execution_count": 147,
   "id": "55f018d2-d823-4e04-a01f-0b62837854a1",
   "metadata": {},
   "outputs": [
    {
     "data": {
      "text/plain": [
       "{'cars': 'Bmw', 'fruit': 'Banana'}"
      ]
     },
     "execution_count": 147,
     "metadata": {},
     "output_type": "execute_result"
    }
   ],
   "source": [
    "my_dict"
   ]
  },
  {
   "cell_type": "code",
   "execution_count": 148,
   "id": "947316bd-8036-4bb4-a3b1-492817b3fade",
   "metadata": {},
   "outputs": [
    {
     "data": {
      "text/plain": [
       "dict_keys(['cars', 'fruit'])"
      ]
     },
     "execution_count": 148,
     "metadata": {},
     "output_type": "execute_result"
    }
   ],
   "source": [
    "my_dict.keys()"
   ]
  },
  {
   "cell_type": "code",
   "execution_count": 149,
   "id": "92a03e7f-5ed2-4539-905e-9c8015fcc3ad",
   "metadata": {},
   "outputs": [
    {
     "data": {
      "text/plain": [
       "dict_values(['Bmw', 'Banana'])"
      ]
     },
     "execution_count": 149,
     "metadata": {},
     "output_type": "execute_result"
    }
   ],
   "source": [
    "my_dict.values()"
   ]
  },
  {
   "cell_type": "code",
   "execution_count": 150,
   "id": "5b127c8b-45cf-4baf-8a4d-40768992b495",
   "metadata": {},
   "outputs": [],
   "source": [
    "my_dict[\"Bike\"] = 'Yamaha'"
   ]
  },
  {
   "cell_type": "code",
   "execution_count": 151,
   "id": "1d181556-d143-4fdd-925f-fa52d456ba3a",
   "metadata": {},
   "outputs": [
    {
     "data": {
      "text/plain": [
       "{'cars': 'Bmw', 'fruit': 'Banana', 'Bike': 'Yamaha'}"
      ]
     },
     "execution_count": 151,
     "metadata": {},
     "output_type": "execute_result"
    }
   ],
   "source": [
    "my_dict"
   ]
  },
  {
   "cell_type": "code",
   "execution_count": 152,
   "id": "36cc3b10-b197-4cb1-ba30-77a37edba30c",
   "metadata": {},
   "outputs": [],
   "source": [
    "my_dict.update({\"rikshaw\": 'E-Rikshaw'})"
   ]
  },
  {
   "cell_type": "code",
   "execution_count": 153,
   "id": "3cb43daa-a213-4d57-9699-7eeefbd0d531",
   "metadata": {},
   "outputs": [
    {
     "data": {
      "text/plain": [
       "{'cars': 'Bmw', 'fruit': 'Banana', 'Bike': 'Yamaha', 'rikshaw': 'E-Rikshaw'}"
      ]
     },
     "execution_count": 153,
     "metadata": {},
     "output_type": "execute_result"
    }
   ],
   "source": [
    "my_dict"
   ]
  },
  {
   "cell_type": "markdown",
   "id": "884feaa2-154a-429b-84f6-581c0e196644",
   "metadata": {},
   "source": [
    "#### remove element"
   ]
  },
  {
   "cell_type": "code",
   "execution_count": 154,
   "id": "839e266e-f863-4892-8f93-8e67642dc8ba",
   "metadata": {},
   "outputs": [
    {
     "data": {
      "text/plain": [
       "'E-Rikshaw'"
      ]
     },
     "execution_count": 154,
     "metadata": {},
     "output_type": "execute_result"
    }
   ],
   "source": [
    "my_dict.pop('rikshaw')"
   ]
  },
  {
   "cell_type": "code",
   "execution_count": 155,
   "id": "b6b0458b-af75-499a-a56e-ea31a9fd4d80",
   "metadata": {},
   "outputs": [
    {
     "data": {
      "text/plain": [
       "{'cars': 'Bmw', 'fruit': 'Banana', 'Bike': 'Yamaha'}"
      ]
     },
     "execution_count": 155,
     "metadata": {},
     "output_type": "execute_result"
    }
   ],
   "source": [
    "my_dict"
   ]
  },
  {
   "cell_type": "code",
   "execution_count": 156,
   "id": "d05b6b49-e7bd-4097-99d7-8db4544b87f3",
   "metadata": {},
   "outputs": [],
   "source": [
    "# del my_dict it will delete dictionary"
   ]
  },
  {
   "cell_type": "markdown",
   "id": "175669d9-4524-48a4-bb11-e9afe77a018a",
   "metadata": {},
   "source": [
    "#### copy dictionary"
   ]
  },
  {
   "cell_type": "code",
   "execution_count": 161,
   "id": "3ff70cf7-058d-432a-a2dc-aa92764ca3e5",
   "metadata": {},
   "outputs": [],
   "source": [
    "new_dict = my_dict.copy()"
   ]
  },
  {
   "cell_type": "code",
   "execution_count": 162,
   "id": "b99e974a-bfe9-4a29-b27b-37bbc08d0763",
   "metadata": {},
   "outputs": [
    {
     "name": "stdout",
     "output_type": "stream",
     "text": [
      "{'cars': 'Bmw', 'fruit': 'Banana', 'Bike': 'Yamaha'}\n"
     ]
    }
   ],
   "source": [
    "print(new_dict)"
   ]
  },
  {
   "cell_type": "raw",
   "id": "34af74d9-1d86-48e2-af16-f64c88515f1d",
   "metadata": {},
   "source": []
  },
  {
   "cell_type": "raw",
   "id": "5c29fb3b-980d-41f0-971d-73c04430d1f6",
   "metadata": {},
   "source": [
    "Method\tDescription\n",
    "clear()\tRemoves all the elements from the dictionary\n",
    "copy()\tReturns a copy of the dictionary\n",
    "fromkeys()\tReturns a dictionary with the specified keys and value\n",
    "get()\tReturns the value of the specified key\n",
    "items()\tReturns a list containing a tuple for each key value pair\n",
    "keys()\tReturns a list containing the dictionary's keys\n",
    "pop()\tRemoves the element with the specified key\n",
    "popitem()\tRemoves the last inserted key-value pair\n",
    "setdefault()\tReturns the value of the specified key. If the key does not exist: insert the key, with the specified value\n",
    "update()\tUpdates the dictionary with the specified key-value pairs\n",
    "values()\tReturns a list of all the values in the dictionary"
   ]
  },
  {
   "cell_type": "code",
   "execution_count": null,
   "id": "f944edfd-6688-48d3-9136-cd8c125c87f3",
   "metadata": {},
   "outputs": [],
   "source": []
  }
 ],
 "metadata": {
  "kernelspec": {
   "display_name": "Python 3 (ipykernel)",
   "language": "python",
   "name": "python3"
  },
  "language_info": {
   "codemirror_mode": {
    "name": "ipython",
    "version": 3
   },
   "file_extension": ".py",
   "mimetype": "text/x-python",
   "name": "python",
   "nbconvert_exporter": "python",
   "pygments_lexer": "ipython3",
   "version": "3.13.5"
  },
  "widgets": {
   "application/vnd.jupyter.widget-state+json": {
    "state": {},
    "version_major": 2,
    "version_minor": 0
   }
  }
 },
 "nbformat": 4,
 "nbformat_minor": 5
}
