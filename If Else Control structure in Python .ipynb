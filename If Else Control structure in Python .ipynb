{
 "cells": [
  {
   "cell_type": "markdown",
   "id": "d0cf08a0-157e-41ea-82a4-921e6c023ddb",
   "metadata": {},
   "source": [
    "### Control Structure in Python "
   ]
  },
  {
   "cell_type": "raw",
   "id": "241918bd-2276-46a3-99cb-670a3db4f13d",
   "metadata": {},
   "source": [
    "control sturtcure in python allows to dictate the flow the code. it also tell us which block of code is executed if condition is true and vice versa"
   ]
  },
  {
   "cell_type": "raw",
   "id": "85dae389-d793-4b51-832c-8d792a4883fd",
   "metadata": {},
   "source": [
    "# There are three types of control structure\n",
    "1. conditional statement \n",
    "2. looping or loops\n",
    "3. exception handling ( try , except and finally )"
   ]
  },
  {
   "cell_type": "code",
   "execution_count": 57,
   "id": "d6a2337d-0e6f-4a07-a428-f72d747b2ef3",
   "metadata": {},
   "outputs": [],
   "source": [
    "### Conditional statement : if , else , elif "
   ]
  },
  {
   "cell_type": "code",
   "execution_count": null,
   "id": "84e8c2b4-8c86-4bc1-bb5d-bfe2eb3b6efe",
   "metadata": {},
   "outputs": [],
   "source": [
    "Conditional Statement used for decision making in program. it is used to execute a block of code based on condition.\n",
    "\n",
    "types\n",
    "\n",
    "1. if condition statemen\n",
    "2. if - else conditional statement\n",
    "3. if - elif - else conditional statement"
   ]
  },
  {
   "cell_type": "markdown",
   "id": "26f4fc2b-a970-49b5-9397-ccbec742ff35",
   "metadata": {},
   "source": [
    "### If statement: \n",
    "It is a most simple conditional statement. if the condition is true then block of code is executed.\n",
    "\n",
    "It allows a specific block of code to be executed only if a given condition evaluates to True. "
   ]
  },
  {
   "cell_type": "code",
   "execution_count": null,
   "id": "20abea21-d559-4d53-9281-73c1b39356da",
   "metadata": {},
   "outputs": [],
   "source": [
    "syntax :\n",
    "\n",
    "if (condtion):\n",
    "     block of code \n",
    "\n",
    "\n",
    "explanation how syntax / code  works:\n",
    "\n",
    "1 .if keyword: This initiates the conditional statement.\n",
    "    \n",
    "2 .condition: This is a logical expression that Python evaluates. It can be a comparison (e.g., x > y), a boolean variable, or any expression that results in a True or False value. \n",
    "           Non-zero values are considered True, while 0 and None are considered False.\n",
    "               \n",
    "3 .Colon (:): This signifies the end of the if statement's header.\n",
    "\n",
    "4 . Indentation: The code block to be executed when the condition is True must be indented (typically with four spaces) relative to the if line. \n",
    "             Python uses indentation to define code blocks, unlike other languages that might use braces or keywords.\n"
   ]
  },
  {
   "cell_type": "code",
   "execution_count": 2,
   "id": "2dee62b7-c012-4d31-8b76-05a17fd02012",
   "metadata": {},
   "outputs": [
    {
     "name": "stdout",
     "output_type": "stream",
     "text": [
      " A is greater than 20 \n"
     ]
    }
   ],
   "source": [
    "a = 21\n",
    "\n",
    "if a >20:\n",
    "    print(\" A is greater than 20 \")"
   ]
  },
  {
   "cell_type": "markdown",
   "id": "8c94988d-848e-49d4-9a2f-6be720ac7032",
   "metadata": {},
   "source": [
    "### If - Else : \n",
    "if-else statement is a fundamental control flow structure used for decision-making. \n",
    "\n",
    "It allows a program to execute different blocks of code based on whether a given condition evaluates to True or False"
   ]
  },
  {
   "cell_type": "code",
   "execution_count": null,
   "id": "23a05357-89b4-44c4-adc7-4d165f319977",
   "metadata": {},
   "outputs": [],
   "source": [
    "syntax : \n",
    "\n",
    "if condition:\n",
    "    block of code\n",
    "else:\n",
    "    cblock of code\n",
    "\n",
    "explanation how syntax / code  works:\n",
    "\n",
    "if condition: The if keyword is followed by a condition (an expression that evaluates to either True or False).\n",
    "\n",
    "A colon : marks the end of the if statement.\n",
    "    \n",
    "Indented Block (under if): The lines of code immediately following the if statement, and indented, form the \n",
    "                          \"if block. \"This block is executed only if the condition is True.\n",
    "else:: The else keyword is used to specify an alternative block of code to be executed when the if condition is False. It also ends with a colon :\n",
    "\n",
    "Indented Block (under else): The lines of code immediately following the else statement, and indented, form the \n",
    "                              \"else block.\" This block is executed only if the condition in the if statement is False."
   ]
  },
  {
   "cell_type": "code",
   "execution_count": 4,
   "id": "d5fa9e6d-d9ef-4fc6-ab9a-a49823441c0d",
   "metadata": {},
   "outputs": [
    {
     "name": "stdout",
     "output_type": "stream",
     "text": [
      " A is less than 20\n"
     ]
    }
   ],
   "source": [
    "a = 12\n",
    "\n",
    "if a >= 18:\n",
    "    print(\"A is greater than 20 \")\n",
    "else:\n",
    "    print(\" A is less than 20\")"
   ]
  },
  {
   "cell_type": "markdown",
   "id": "6bb85480-723e-49a0-9f8c-bc7b7a71a802",
   "metadata": {},
   "source": [
    "### if - elif - else \n",
    "The if-elif-else statement in Python is a control flow construct used for decision-making.\n",
    "\n",
    "It allows the program to execute different blocks of code based on whether certain conditions are true or false."
   ]
  },
  {
   "cell_type": "raw",
   "id": "25ff0db5-e5c7-4cb8-801f-771d1b328b29",
   "metadata": {},
   "source": [
    "syntax \n",
    "\n",
    "if condition1:\n",
    "    # Code to execute if condition1 is True\n",
    "elif condition2:\n",
    "    # Code to execute if condition2 is True (and condition1 was False)\n",
    "else:\n",
    "    # Code to execute if all preceding conditions were False\n",
    "\n",
    "\n",
    "explanation how syntax / code  works:\n",
    "\n",
    "if condition1::\n",
    "    \n",
    "The if statement evaluates condition1. If condition1 is True, the code block immediately following the if statement is executed.\n",
    " \n",
    "elif condition2::\n",
    "    \n",
    "If condition1 is False, the program then checks condition2. If condition2 is True, the code block following the elif statement is executed.\n",
    "You can have multiple elif statements to check for various conditions in sequence.\n",
    "    \n",
    "else::\n",
    "\n",
    "If all preceding if and elif conditions evaluate to False, the code block following the else statement is executed. The else block is optional."
   ]
  },
  {
   "cell_type": "code",
   "execution_count": 70,
   "id": "c7711133-7070-4e6a-ad84-5f82fa9dcbf9",
   "metadata": {},
   "outputs": [
    {
     "name": "stdout",
     "output_type": "stream",
     "text": [
      "a is in between range of 30 and 40 \n"
     ]
    }
   ],
   "source": [
    "a =  33\n",
    "\n",
    "if ( a < 10) :\n",
    "    print(\" A is less than 10 \")\n",
    "\n",
    "elif ( a > 10 and a < 20):\n",
    "    print(\"a is in between range of 10 and 20 \")\n",
    "\n",
    "elif ( a  < 20 and a < 30):\n",
    "    print(\"a is in between range of 20 and 30 \")\n",
    "\n",
    "elif ( a > 30 and a < 40):\n",
    "    print(\"a is in between range of 30 and 40 \")\n",
    "    \n",
    "else:\n",
    "    print(\" A is  greater than 40 \")\n",
    "\n",
    "\n",
    "# task : number < 20 :print(\" a is less than 20\")"
   ]
  },
  {
   "cell_type": "code",
   "execution_count": null,
   "id": "64d17c0a-8b0d-4909-b650-2551e39dcd86",
   "metadata": {},
   "outputs": [],
   "source": []
  },
  {
   "cell_type": "code",
   "execution_count": null,
   "id": "a55396aa-0518-4d47-902c-1c7cf4dbb8e0",
   "metadata": {},
   "outputs": [],
   "source": []
  }
 ],
 "metadata": {
  "kernelspec": {
   "display_name": "Python 3 (ipykernel)",
   "language": "python",
   "name": "python3"
  },
  "language_info": {
   "codemirror_mode": {
    "name": "ipython",
    "version": 3
   },
   "file_extension": ".py",
   "mimetype": "text/x-python",
   "name": "python",
   "nbconvert_exporter": "python",
   "pygments_lexer": "ipython3",
   "version": "3.13.5"
  },
  "widgets": {
   "application/vnd.jupyter.widget-state+json": {
    "state": {},
    "version_major": 2,
    "version_minor": 0
   }
  }
 },
 "nbformat": 4,
 "nbformat_minor": 5
}
