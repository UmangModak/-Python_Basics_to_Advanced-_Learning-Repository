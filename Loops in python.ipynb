{
 "cells": [
  {
   "cell_type": "markdown",
   "id": "15af3697-6fc7-409a-9d4c-a3adc466f831",
   "metadata": {},
   "source": [
    "### Loops : Loops in Python are control flow statements used to execute a block of code repeatedly.\n",
    "Python offers two primary types of loops: \n",
    "1. for loops\n",
    "2. while loops."
   ]
  },
  {
   "cell_type": "markdown",
   "id": "9a421f1d-b537-44a0-8fc1-5be4e31a1e20",
   "metadata": {},
   "source": [
    "### 1. for Loop\n",
    "\n",
    "The for loop is used to iterate over a sequence (such as a list, tuple, string, or range) or other iterable objects. \n",
    "\n",
    "It executes a block of code once for each item in the sequence"
   ]
  },
  {
   "cell_type": "code",
   "execution_count": 1,
   "id": "3ec8b600-ff21-4bd9-b81a-a33e212a4f57",
   "metadata": {},
   "outputs": [
    {
     "name": "stdout",
     "output_type": "stream",
     "text": [
      "apple\n",
      "banana\n",
      "cherry\n"
     ]
    }
   ],
   "source": [
    "# Example of a for loop iterating over a list\n",
    "fruits = [\"apple\", \"banana\", \"cherry\"]\n",
    "for fruit in fruits:\n",
    "    print(fruit)\n",
    "\n"
   ]
  },
  {
   "cell_type": "code",
   "execution_count": 2,
   "id": "5206af5a-c00a-43bd-8a03-75895c3d0a80",
   "metadata": {},
   "outputs": [
    {
     "name": "stdout",
     "output_type": "stream",
     "text": [
      "0\n",
      "1\n",
      "2\n",
      "3\n",
      "4\n"
     ]
    }
   ],
   "source": [
    "# Example of a for loop with the range() function\n",
    "for i in range(5):  # Iterates from 0 to 4\n",
    "    print(i)"
   ]
  },
  {
   "cell_type": "code",
   "execution_count": 3,
   "id": "419ca640-f7ed-4867-b387-b40ce629fb6c",
   "metadata": {},
   "outputs": [
    {
     "name": "stdout",
     "output_type": "stream",
     "text": [
      "0\n",
      "2\n",
      "4\n",
      "6\n",
      "8\n"
     ]
    }
   ],
   "source": [
    "# Using step in range\n",
    "for i in range(0, 10, 2):  # 0,2,4,6,8\n",
    "    print(i)"
   ]
  },
  {
   "cell_type": "markdown",
   "id": "aa0c4eed-5857-4431-9405-4f428bf516ed",
   "metadata": {},
   "source": [
    "### 2. While loop\n",
    "The while loop executes a block of code as long as a specified condition remains true.\n",
    "\n",
    "The loop continues until the condition evaluates to False."
   ]
  },
  {
   "cell_type": "code",
   "execution_count": 4,
   "id": "1fbb9f2e-6e0a-42c0-8999-8c4f646e4916",
   "metadata": {},
   "outputs": [
    {
     "name": "stdout",
     "output_type": "stream",
     "text": [
      "0\n",
      "1\n",
      "2\n",
      "3\n",
      "4\n"
     ]
    }
   ],
   "source": [
    "# Example of a while loop\n",
    "count = 0\n",
    "while count < 5:\n",
    "    print(count)\n",
    "    count += 1"
   ]
  },
  {
   "cell_type": "code",
   "execution_count": 5,
   "id": "bc98acdb-4a20-42be-8430-d93ccac96f87",
   "metadata": {},
   "outputs": [
    {
     "name": "stdout",
     "output_type": "stream",
     "text": [
      "0\n",
      "1\n",
      "2\n",
      "3\n",
      "4\n",
      "5\n",
      "6\n",
      "7\n",
      "8\n",
      "9\n"
     ]
    }
   ],
   "source": [
    "i = 0\n",
    "while True:\n",
    "    print(i)\n",
    "    i += 1\n",
    "    if i == 10:\n",
    "        break "
   ]
  },
  {
   "cell_type": "markdown",
   "id": "f324edd0-9688-48af-8622-338d8276971e",
   "metadata": {},
   "source": [
    "### Nested Loops:\n",
    "Loops can be nested, meaning one loop can be placed inside another. \n",
    "\n",
    "This is useful for iterating over multi-dimensional data structures or performing operations that require multiple levels of iteration."
   ]
  },
  {
   "cell_type": "code",
   "execution_count": 6,
   "id": "669437c9-2664-4d7c-878b-0cbe936515bf",
   "metadata": {},
   "outputs": [
    {
     "name": "stdout",
     "output_type": "stream",
     "text": [
      "0 0\n",
      "0 1\n",
      "1 0\n",
      "1 1\n",
      "2 0\n",
      "2 1\n"
     ]
    }
   ],
   "source": [
    "for i in range(3):\n",
    "    for j in range(2):\n",
    "        print(i, j)"
   ]
  },
  {
   "cell_type": "code",
   "execution_count": 7,
   "id": "88f1149e-9ccc-4522-9ed8-2ba7b4227709",
   "metadata": {},
   "outputs": [
    {
     "name": "stdout",
     "output_type": "stream",
     "text": [
      "fruits : Apple , Numbers : 1\n",
      "fruits : Apple , Numbers : 2\n",
      "fruits : Apple , Numbers : 3\n",
      "fruits : Banana , Numbers : 1\n",
      "fruits : Banana , Numbers : 2\n",
      "fruits : Banana , Numbers : 3\n",
      "fruits : Orange , Numbers : 1\n",
      "fruits : Orange , Numbers : 2\n",
      "fruits : Orange , Numbers : 3\n"
     ]
    }
   ],
   "source": [
    "list_1 = [\"Apple\",\"Banana\",\"Orange\"]\n",
    "list_2 = [1,2,3]\n",
    "\n",
    "for i in list_1:\n",
    "    for j in list_2:\n",
    "        print(f\"fruits : {i} , Numbers : {j}\")"
   ]
  },
  {
   "cell_type": "markdown",
   "id": "46349566-20aa-4170-be74-7a5d4e2a2763",
   "metadata": {},
   "source": [
    "### Control Statement in Loop\n",
    "1. pass\n",
    "2. Break\n",
    "3. Continue"
   ]
  },
  {
   "cell_type": "markdown",
   "id": "2daa85be-d9a7-4251-a3d5-5058f9d7e22a",
   "metadata": {},
   "source": [
    "### pass → do nothing, useful as a placeholder\n",
    "\n",
    " Does nothing; acts as a placeholder for future code.\n",
    "\n",
    " pass signals to the Python interpreter that a block is intentionally empty, satisfying the syntax requirements without performing any operation."
   ]
  },
  {
   "cell_type": "code",
   "execution_count": 8,
   "id": "54dfdbe5-49b1-417b-b924-5ee49edac09d",
   "metadata": {},
   "outputs": [
    {
     "name": "stdout",
     "output_type": "stream",
     "text": [
      "0\n",
      "1\n",
      "2\n",
      "3\n"
     ]
    }
   ],
   "source": [
    "for i in range(4):\n",
    "    if i == 3:\n",
    "        pass \n",
    "        #print(i)# placeholder, no action\n",
    "    print(i)\n",
    "# Output: 0 1 2"
   ]
  },
  {
   "cell_type": "code",
   "execution_count": 9,
   "id": "fc9531bb-5bcf-4ee0-b202-1da8c986e461",
   "metadata": {},
   "outputs": [],
   "source": [
    "# pass using if-else\n",
    "x = 6\n",
    "if x > 5:\n",
    "    pass  # Placeholder for future logic\n",
    "else:\n",
    "    print(\"x is 5 or less\")"
   ]
  },
  {
   "cell_type": "markdown",
   "id": "a86d226f-26fa-4efe-9959-0b5ed1103b50",
   "metadata": {},
   "source": [
    "### 2. Break - exit loop completely\n",
    "Exits the loop immediately, even if the loop condition is still True."
   ]
  },
  {
   "cell_type": "code",
   "execution_count": 10,
   "id": "092d2b32-b9b1-409e-b46c-03641d0c61ef",
   "metadata": {},
   "outputs": [
    {
     "name": "stdout",
     "output_type": "stream",
     "text": [
      "0\n",
      "1\n"
     ]
    }
   ],
   "source": [
    "for i in range(5):\n",
    "    if i == 2:\n",
    "        break  # stop the loop\n",
    "    print(i)\n",
    "# Output: 0 1 2"
   ]
  },
  {
   "cell_type": "code",
   "execution_count": 11,
   "id": "2f500f8e-b770-460f-9b25-544a54a6f045",
   "metadata": {},
   "outputs": [
    {
     "name": "stdout",
     "output_type": "stream",
     "text": [
      "1 is odd, continue looping\n",
      "2 is odd, continue looping\n",
      "3 is odd, continue looping\n",
      "4 is odd, continue looping\n",
      "5\n"
     ]
    }
   ],
   "source": [
    "numbers = [1,2, 3,4, 5,6, 7,8, 9, 10]\n",
    "\n",
    "for num in numbers:\n",
    "    if num == 5:  # check if number is even\n",
    "        print(num)\n",
    "        break  # exit the loop\n",
    "    else:\n",
    "        print(f\"{num} is odd, continue looping\")"
   ]
  },
  {
   "cell_type": "markdown",
   "id": "1b7ae7b2-4f3f-47c5-ae1b-c2adb3aafc90",
   "metadata": {},
   "source": [
    "### Continue -skip current iteration\n",
    "Skips the current iteration and moves to the next iteration."
   ]
  },
  {
   "cell_type": "code",
   "execution_count": 12,
   "id": "be526d3e-1590-4e83-a495-87b1e35cbbfb",
   "metadata": {},
   "outputs": [
    {
     "name": "stdout",
     "output_type": "stream",
     "text": [
      "0\n",
      "2\n",
      "3\n",
      "4\n"
     ]
    }
   ],
   "source": [
    "for i in range(5):\n",
    "    if i == 1:\n",
    "        continue  # skip this iteration\n",
    "    print(i)\n",
    "# Output: 0 1 3 4"
   ]
  },
  {
   "cell_type": "code",
   "execution_count": null,
   "id": "0012c40d-f1e5-4b36-8497-748315479298",
   "metadata": {},
   "outputs": [],
   "source": []
  }
 ],
 "metadata": {
  "kernelspec": {
   "display_name": "Python 3 (ipykernel)",
   "language": "python",
   "name": "python3"
  },
  "language_info": {
   "codemirror_mode": {
    "name": "ipython",
    "version": 3
   },
   "file_extension": ".py",
   "mimetype": "text/x-python",
   "name": "python",
   "nbconvert_exporter": "python",
   "pygments_lexer": "ipython3",
   "version": "3.13.5"
  },
  "widgets": {
   "application/vnd.jupyter.widget-state+json": {
    "state": {},
    "version_major": 2,
    "version_minor": 0
   }
  }
 },
 "nbformat": 4,
 "nbformat_minor": 5
}
